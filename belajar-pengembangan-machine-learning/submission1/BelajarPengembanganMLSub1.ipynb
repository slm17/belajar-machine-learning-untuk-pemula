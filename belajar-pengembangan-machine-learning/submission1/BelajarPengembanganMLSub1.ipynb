{
  "nbformat": 4,
  "nbformat_minor": 0,
  "metadata": {
    "colab": {
      "name": "BelajarPengembanganMLSub1.ipynb",
      "provenance": [],
      "collapsed_sections": []
    },
    "kernelspec": {
      "name": "python3",
      "display_name": "Python 3"
    },
    "language_info": {
      "name": "python"
    }
  },
  "cells": [
    {
      "cell_type": "code",
      "metadata": {
        "colab": {
          "base_uri": "https://localhost:8080/"
        },
        "id": "mO3pTF8IJrEE",
        "outputId": "92a1fe99-9c0a-44dd-8440-1e3d385e7fd7"
      },
      "source": [
        "from google.colab import drive\n",
        "drive.mount('/content/drive/')"
      ],
      "execution_count": 1,
      "outputs": [
        {
          "output_type": "stream",
          "name": "stdout",
          "text": [
            "Mounted at /content/drive/\n"
          ]
        }
      ]
    },
    {
      "cell_type": "code",
      "metadata": {
        "id": "tqUur6nCKOux"
      },
      "source": [
        "import pandas as pd\n",
        "data = pd.read_csv('/content/drive/MyDrive/Colab Notebooks/Belajar Pengembangan Machine Learning/bbc-text.csv')"
      ],
      "execution_count": 3,
      "outputs": []
    },
    {
      "cell_type": "code",
      "metadata": {
        "colab": {
          "base_uri": "https://localhost:8080/",
          "height": 206
        },
        "id": "vJqlfuA_KaBf",
        "outputId": "6bddbc73-304c-4c00-991a-259279780c82"
      },
      "source": [
        "data.head()"
      ],
      "execution_count": 4,
      "outputs": [
        {
          "output_type": "execute_result",
          "data": {
            "text/html": [
              "<div>\n",
              "<style scoped>\n",
              "    .dataframe tbody tr th:only-of-type {\n",
              "        vertical-align: middle;\n",
              "    }\n",
              "\n",
              "    .dataframe tbody tr th {\n",
              "        vertical-align: top;\n",
              "    }\n",
              "\n",
              "    .dataframe thead th {\n",
              "        text-align: right;\n",
              "    }\n",
              "</style>\n",
              "<table border=\"1\" class=\"dataframe\">\n",
              "  <thead>\n",
              "    <tr style=\"text-align: right;\">\n",
              "      <th></th>\n",
              "      <th>category</th>\n",
              "      <th>text</th>\n",
              "    </tr>\n",
              "  </thead>\n",
              "  <tbody>\n",
              "    <tr>\n",
              "      <th>0</th>\n",
              "      <td>tech</td>\n",
              "      <td>tv future in the hands of viewers with home th...</td>\n",
              "    </tr>\n",
              "    <tr>\n",
              "      <th>1</th>\n",
              "      <td>business</td>\n",
              "      <td>worldcom boss  left books alone  former worldc...</td>\n",
              "    </tr>\n",
              "    <tr>\n",
              "      <th>2</th>\n",
              "      <td>sport</td>\n",
              "      <td>tigers wary of farrell  gamble  leicester say ...</td>\n",
              "    </tr>\n",
              "    <tr>\n",
              "      <th>3</th>\n",
              "      <td>sport</td>\n",
              "      <td>yeading face newcastle in fa cup premiership s...</td>\n",
              "    </tr>\n",
              "    <tr>\n",
              "      <th>4</th>\n",
              "      <td>entertainment</td>\n",
              "      <td>ocean s twelve raids box office ocean s twelve...</td>\n",
              "    </tr>\n",
              "  </tbody>\n",
              "</table>\n",
              "</div>"
            ],
            "text/plain": [
              "        category                                               text\n",
              "0           tech  tv future in the hands of viewers with home th...\n",
              "1       business  worldcom boss  left books alone  former worldc...\n",
              "2          sport  tigers wary of farrell  gamble  leicester say ...\n",
              "3          sport  yeading face newcastle in fa cup premiership s...\n",
              "4  entertainment  ocean s twelve raids box office ocean s twelve..."
            ]
          },
          "metadata": {},
          "execution_count": 4
        }
      ]
    },
    {
      "cell_type": "code",
      "metadata": {
        "colab": {
          "base_uri": "https://localhost:8080/",
          "height": 424
        },
        "id": "NKyD5d1DKq2Z",
        "outputId": "8db664c6-74dc-4acd-de1f-554c78f288ec"
      },
      "source": [
        "# one-hot encoding\n",
        "category = pd.get_dummies(data.category)\n",
        "data_new = pd.concat([data, category], axis=1)\n",
        "data_new = data_new.drop(columns='category')\n",
        "data_new"
      ],
      "execution_count": 6,
      "outputs": [
        {
          "output_type": "execute_result",
          "data": {
            "text/html": [
              "<div>\n",
              "<style scoped>\n",
              "    .dataframe tbody tr th:only-of-type {\n",
              "        vertical-align: middle;\n",
              "    }\n",
              "\n",
              "    .dataframe tbody tr th {\n",
              "        vertical-align: top;\n",
              "    }\n",
              "\n",
              "    .dataframe thead th {\n",
              "        text-align: right;\n",
              "    }\n",
              "</style>\n",
              "<table border=\"1\" class=\"dataframe\">\n",
              "  <thead>\n",
              "    <tr style=\"text-align: right;\">\n",
              "      <th></th>\n",
              "      <th>text</th>\n",
              "      <th>business</th>\n",
              "      <th>entertainment</th>\n",
              "      <th>politics</th>\n",
              "      <th>sport</th>\n",
              "      <th>tech</th>\n",
              "    </tr>\n",
              "  </thead>\n",
              "  <tbody>\n",
              "    <tr>\n",
              "      <th>0</th>\n",
              "      <td>tv future in the hands of viewers with home th...</td>\n",
              "      <td>0</td>\n",
              "      <td>0</td>\n",
              "      <td>0</td>\n",
              "      <td>0</td>\n",
              "      <td>1</td>\n",
              "    </tr>\n",
              "    <tr>\n",
              "      <th>1</th>\n",
              "      <td>worldcom boss  left books alone  former worldc...</td>\n",
              "      <td>1</td>\n",
              "      <td>0</td>\n",
              "      <td>0</td>\n",
              "      <td>0</td>\n",
              "      <td>0</td>\n",
              "    </tr>\n",
              "    <tr>\n",
              "      <th>2</th>\n",
              "      <td>tigers wary of farrell  gamble  leicester say ...</td>\n",
              "      <td>0</td>\n",
              "      <td>0</td>\n",
              "      <td>0</td>\n",
              "      <td>1</td>\n",
              "      <td>0</td>\n",
              "    </tr>\n",
              "    <tr>\n",
              "      <th>3</th>\n",
              "      <td>yeading face newcastle in fa cup premiership s...</td>\n",
              "      <td>0</td>\n",
              "      <td>0</td>\n",
              "      <td>0</td>\n",
              "      <td>1</td>\n",
              "      <td>0</td>\n",
              "    </tr>\n",
              "    <tr>\n",
              "      <th>4</th>\n",
              "      <td>ocean s twelve raids box office ocean s twelve...</td>\n",
              "      <td>0</td>\n",
              "      <td>1</td>\n",
              "      <td>0</td>\n",
              "      <td>0</td>\n",
              "      <td>0</td>\n",
              "    </tr>\n",
              "    <tr>\n",
              "      <th>...</th>\n",
              "      <td>...</td>\n",
              "      <td>...</td>\n",
              "      <td>...</td>\n",
              "      <td>...</td>\n",
              "      <td>...</td>\n",
              "      <td>...</td>\n",
              "    </tr>\n",
              "    <tr>\n",
              "      <th>2220</th>\n",
              "      <td>cars pull down us retail figures us retail sal...</td>\n",
              "      <td>1</td>\n",
              "      <td>0</td>\n",
              "      <td>0</td>\n",
              "      <td>0</td>\n",
              "      <td>0</td>\n",
              "    </tr>\n",
              "    <tr>\n",
              "      <th>2221</th>\n",
              "      <td>kilroy unveils immigration policy ex-chatshow ...</td>\n",
              "      <td>0</td>\n",
              "      <td>0</td>\n",
              "      <td>1</td>\n",
              "      <td>0</td>\n",
              "      <td>0</td>\n",
              "    </tr>\n",
              "    <tr>\n",
              "      <th>2222</th>\n",
              "      <td>rem announce new glasgow concert us band rem h...</td>\n",
              "      <td>0</td>\n",
              "      <td>1</td>\n",
              "      <td>0</td>\n",
              "      <td>0</td>\n",
              "      <td>0</td>\n",
              "    </tr>\n",
              "    <tr>\n",
              "      <th>2223</th>\n",
              "      <td>how political squabbles snowball it s become c...</td>\n",
              "      <td>0</td>\n",
              "      <td>0</td>\n",
              "      <td>1</td>\n",
              "      <td>0</td>\n",
              "      <td>0</td>\n",
              "    </tr>\n",
              "    <tr>\n",
              "      <th>2224</th>\n",
              "      <td>souness delight at euro progress boss graeme s...</td>\n",
              "      <td>0</td>\n",
              "      <td>0</td>\n",
              "      <td>0</td>\n",
              "      <td>1</td>\n",
              "      <td>0</td>\n",
              "    </tr>\n",
              "  </tbody>\n",
              "</table>\n",
              "<p>2225 rows × 6 columns</p>\n",
              "</div>"
            ],
            "text/plain": [
              "                                                   text  business  ...  sport  tech\n",
              "0     tv future in the hands of viewers with home th...         0  ...      0     1\n",
              "1     worldcom boss  left books alone  former worldc...         1  ...      0     0\n",
              "2     tigers wary of farrell  gamble  leicester say ...         0  ...      1     0\n",
              "3     yeading face newcastle in fa cup premiership s...         0  ...      1     0\n",
              "4     ocean s twelve raids box office ocean s twelve...         0  ...      0     0\n",
              "...                                                 ...       ...  ...    ...   ...\n",
              "2220  cars pull down us retail figures us retail sal...         1  ...      0     0\n",
              "2221  kilroy unveils immigration policy ex-chatshow ...         0  ...      0     0\n",
              "2222  rem announce new glasgow concert us band rem h...         0  ...      0     0\n",
              "2223  how political squabbles snowball it s become c...         0  ...      0     0\n",
              "2224  souness delight at euro progress boss graeme s...         0  ...      1     0\n",
              "\n",
              "[2225 rows x 6 columns]"
            ]
          },
          "metadata": {},
          "execution_count": 6
        }
      ]
    },
    {
      "cell_type": "code",
      "metadata": {
        "id": "cdC54VHHLMEY"
      },
      "source": [
        "# ubah nilai dataframe ke numpy array\n",
        "teks = data_new['text'].values\n",
        "label = data_new[['business', 'entertainment', 'politics', 'sport', 'tech']].values"
      ],
      "execution_count": 8,
      "outputs": []
    },
    {
      "cell_type": "code",
      "metadata": {
        "id": "MeAiB9NmLw66"
      },
      "source": [
        "# bagi data untuk training dan data untuk testing\n",
        "from sklearn.model_selection import train_test_split\n",
        "teks_latih, teks_test, label_latih, label_test = train_test_split(teks, label, test_size=0.2)"
      ],
      "execution_count": 9,
      "outputs": []
    },
    {
      "cell_type": "code",
      "metadata": {
        "id": "nQpo5Oq4MbMP"
      },
      "source": [
        "# ubah setiap teks pada dataset ke bilangan numerik dengan tokenizer\n",
        "from tensorflow.keras.preprocessing.text import Tokenizer\n",
        "from tensorflow.keras.preprocessing.sequence import pad_sequences\n",
        "\n",
        "tokenizer = Tokenizer(num_words=5000, oov_token='x')\n",
        "tokenizer.fit_on_texts(teks_latih)\n",
        "tokenizer.fit_on_texts(teks_test)\n",
        "\n",
        "sekuen_latih = tokenizer.texts_to_sequences(teks_latih)\n",
        "sekuen_test = tokenizer.texts_to_sequences(teks_test)\n",
        "\n",
        "padded_latih = pad_sequences(sekuen_latih)\n",
        "padded_test = pad_sequences(sekuen_test)"
      ],
      "execution_count": 10,
      "outputs": []
    },
    {
      "cell_type": "code",
      "metadata": {
        "id": "EtJl8pYKNspY"
      },
      "source": [
        "# buat arsitektur model\n",
        "import tensorflow as tf\n",
        "model = tf.keras.Sequential([\n",
        "                             tf.keras.layers.Embedding(input_dim=5000, output_dim=16),\n",
        "                             tf.keras.layers.LSTM(64),\n",
        "                             tf.keras.layers.Dense(128, activation=tf.nn.relu),\n",
        "                             tf.keras.layers.Dense(64, activation=tf.nn.relu),\n",
        "                             tf.keras.layers.Dense(5, activation=tf.nn.softmax),\n",
        "])\n",
        "model.compile(loss='categorical_crossentropy',optimizer='adam',metrics=['accuracy'])"
      ],
      "execution_count": 11,
      "outputs": []
    },
    {
      "cell_type": "code",
      "metadata": {
        "id": "kTMirrsyObSy"
      },
      "source": [
        "# fungsi callback\n",
        "class myCallback(tf.keras.callbacks.Callback):\n",
        "  def on_epoch_end(self, epoch, logs={}):\n",
        "    if(logs.get('accuracy')>0.95 and logs.get('val_accuracy')>0.95):\n",
        "      print(\"\\nAkurasi sudah mencapai 90%!\")\n",
        "      self.model.stop_training = True\n",
        "callbacks = myCallback()"
      ],
      "execution_count": 12,
      "outputs": []
    },
    {
      "cell_type": "code",
      "metadata": {
        "colab": {
          "base_uri": "https://localhost:8080/"
        },
        "id": "nCEw30snOnb2",
        "outputId": "c65f7a4c-9f92-4cd2-8785-27efdceeb1a1"
      },
      "source": [
        "# run model\n",
        "num_epochs = 20\n",
        "history = model.fit(padded_latih, label_latih, epochs=num_epochs,\n",
        "                    validation_data=(padded_test, label_test), verbose=2, callbacks=[callbacks])"
      ],
      "execution_count": 13,
      "outputs": [
        {
          "output_type": "stream",
          "name": "stdout",
          "text": [
            "Epoch 1/20\n",
            "56/56 - 123s - loss: 1.6075 - accuracy: 0.2455 - val_loss: 1.5875 - val_accuracy: 0.3236\n",
            "Epoch 2/20\n",
            "56/56 - 121s - loss: 1.4537 - accuracy: 0.3860 - val_loss: 1.2147 - val_accuracy: 0.3843\n",
            "Epoch 3/20\n",
            "56/56 - 121s - loss: 1.0094 - accuracy: 0.5309 - val_loss: 1.2961 - val_accuracy: 0.3865\n",
            "Epoch 4/20\n",
            "56/56 - 122s - loss: 0.6503 - accuracy: 0.7534 - val_loss: 0.5857 - val_accuracy: 0.7618\n",
            "Epoch 5/20\n",
            "56/56 - 121s - loss: 0.1883 - accuracy: 0.9365 - val_loss: 0.5067 - val_accuracy: 0.8427\n",
            "Epoch 6/20\n",
            "56/56 - 122s - loss: 0.0639 - accuracy: 0.9826 - val_loss: 0.5688 - val_accuracy: 0.8337\n",
            "Epoch 7/20\n",
            "56/56 - 121s - loss: 0.0507 - accuracy: 0.9848 - val_loss: 0.5619 - val_accuracy: 0.8494\n",
            "Epoch 8/20\n",
            "56/56 - 125s - loss: 0.0106 - accuracy: 0.9972 - val_loss: 0.6638 - val_accuracy: 0.8292\n",
            "Epoch 9/20\n",
            "56/56 - 123s - loss: 0.0231 - accuracy: 0.9949 - val_loss: 0.7048 - val_accuracy: 0.8315\n",
            "Epoch 10/20\n",
            "56/56 - 123s - loss: 0.0016 - accuracy: 1.0000 - val_loss: 0.6703 - val_accuracy: 0.8472\n",
            "Epoch 11/20\n",
            "56/56 - 124s - loss: 6.5448e-04 - accuracy: 1.0000 - val_loss: 0.6534 - val_accuracy: 0.8629\n",
            "Epoch 12/20\n",
            "56/56 - 124s - loss: 4.6769e-04 - accuracy: 1.0000 - val_loss: 0.6611 - val_accuracy: 0.8629\n",
            "Epoch 13/20\n",
            "56/56 - 124s - loss: 3.5629e-04 - accuracy: 1.0000 - val_loss: 0.6644 - val_accuracy: 0.8629\n",
            "Epoch 14/20\n",
            "56/56 - 124s - loss: 2.9122e-04 - accuracy: 1.0000 - val_loss: 0.6721 - val_accuracy: 0.8629\n",
            "Epoch 15/20\n",
            "56/56 - 124s - loss: 2.3824e-04 - accuracy: 1.0000 - val_loss: 0.6667 - val_accuracy: 0.8719\n",
            "Epoch 16/20\n",
            "56/56 - 125s - loss: 2.0252e-04 - accuracy: 1.0000 - val_loss: 0.6708 - val_accuracy: 0.8697\n",
            "Epoch 17/20\n",
            "56/56 - 126s - loss: 1.7322e-04 - accuracy: 1.0000 - val_loss: 0.6746 - val_accuracy: 0.8764\n",
            "Epoch 18/20\n",
            "56/56 - 123s - loss: 1.5028e-04 - accuracy: 1.0000 - val_loss: 0.6755 - val_accuracy: 0.8787\n",
            "Epoch 19/20\n",
            "56/56 - 123s - loss: 1.3168e-04 - accuracy: 1.0000 - val_loss: 0.6770 - val_accuracy: 0.8809\n",
            "Epoch 20/20\n",
            "56/56 - 123s - loss: 1.1638e-04 - accuracy: 1.0000 - val_loss: 0.6783 - val_accuracy: 0.8787\n"
          ]
        }
      ]
    },
    {
      "cell_type": "code",
      "metadata": {
        "colab": {
          "base_uri": "https://localhost:8080/",
          "height": 295
        },
        "id": "bkuUMScCbjTn",
        "outputId": "f7f6e8e6-8c37-4863-f2b4-60bacd643e35"
      },
      "source": [
        "# membuat plot Model loss\n",
        "import matplotlib.pyplot as plt\n",
        "\n",
        "plt.plot(history.history['loss'])\n",
        "plt.plot(history.history['val_loss'])\n",
        "plt.title('Model Loss')\n",
        "plt.ylabel('Loss')\n",
        "plt.xlabel('Epoch')\n",
        "plt.legend(['train', 'test'], loc='upper right')\n",
        "plt.show()"
      ],
      "execution_count": 18,
      "outputs": [
        {
          "output_type": "display_data",
          "data": {
            "image/png": "[encoded data removed]",
            "text/plain": [
              "<Figure size 432x288 with 1 Axes>"
            ]
          },
          "metadata": {
            "needs_background": "light"
          }
        }
      ]
    },
    {
      "cell_type": "code",
      "metadata": {
        "colab": {
          "base_uri": "https://localhost:8080/",
          "height": 295
        },
        "id": "eB26xDlbeYZg",
        "outputId": "b2e807a6-e393-4f8a-fd53-e14290947772"
      },
      "source": [
        "# membuat plot Model accuracy\n",
        "plt.plot(history.history['accuracy'])\n",
        "plt.plot(history.history['val_accuracy'])\n",
        "plt.title('Model Accuracy')\n",
        "plt.ylabel('Accuracy')\n",
        "plt.xlabel('Epoch')\n",
        "plt.legend(['train', 'test'], loc='lower right')\n",
        "plt.show()"
      ],
      "execution_count": 24,
      "outputs": [
        {
          "output_type": "display_data",
          "data": {
            "image/png": "[encoded data removed]",
            "text/plain": [
              "<Figure size 432x288 with 1 Axes>"
            ]
          },
          "metadata": {
            "needs_background": "light"
          }
        }
      ]
    }
  ]
}