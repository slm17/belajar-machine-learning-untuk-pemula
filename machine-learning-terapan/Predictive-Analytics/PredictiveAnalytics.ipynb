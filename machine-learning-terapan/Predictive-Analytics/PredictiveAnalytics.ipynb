{
  "nbformat": 4,
  "nbformat_minor": 0,
  "metadata": {
    "colab": {
      "name": "PredictiveAnalytics.ipynb",
      "provenance": [],
      "collapsed_sections": []
    },
    "kernelspec": {
      "name": "python3",
      "display_name": "Python 3"
    },
    "language_info": {
      "name": "python"
    }
  },
  "cells": [
    {
      "cell_type": "markdown",
      "metadata": {
        "id": "d0KAn_NTDWbo"
      },
      "source": [
        "import library"
      ]
    },
    {
      "cell_type": "code",
      "metadata": {
        "id": "uNe3VeEW3NH8"
      },
      "source": [
        "import numpy as np\n",
        "import matplotlib.pyplot as plt\n",
        "import pandas as pd\n",
        "%matplotlib inline\n",
        "import seaborn as sns\n",
        "import zipfile,os"
      ],
      "execution_count": null,
      "outputs": []
    },
    {
      "cell_type": "code",
      "metadata": {
        "id": "llqq1ayR3ZM-"
      },
      "source": [
        "import os\n",
        "os.environ['KAGGLE_USERNAME'] = 'sulaimann'\n",
        "os.environ['KAGGLE_KEY'] = '88952eb3c31573d4ef92c24dbb078df4'"
      ],
      "execution_count": null,
      "outputs": []
    },
    {
      "cell_type": "markdown",
      "metadata": {
        "id": "-wnG3zr5KUEO"
      },
      "source": [
        "download dataset \n",
        "\n",
        "sumber dataset https://www.kaggle.com/nehalbirla/vehicle-dataset-from-cardekho"
      ]
    },
    {
      "cell_type": "code",
      "metadata": {
        "colab": {
          "base_uri": "https://localhost:8080/"
        },
        "id": "AcxcukT63wXY",
        "outputId": "c2fafecf-282e-4af2-e7cd-56d68d56aec5"
      },
      "source": [
        "!kaggle datasets download -d nehalbirla/vehicle-dataset-from-cardekho"
      ],
      "execution_count": null,
      "outputs": [
        {
          "output_type": "stream",
          "name": "stdout",
          "text": [
            "Downloading vehicle-dataset-from-cardekho.zip to /content\n",
            "\r  0% 0.00/227k [00:00<?, ?B/s]\n",
            "\r100% 227k/227k [00:00<00:00, 33.3MB/s]\n"
          ]
        }
      ]
    },
    {
      "cell_type": "markdown",
      "metadata": {
        "id": "TnyuLRCDKXON"
      },
      "source": [
        "unzip dataset"
      ]
    },
    {
      "cell_type": "code",
      "metadata": {
        "colab": {
          "base_uri": "https://localhost:8080/"
        },
        "id": "A42Ozsmq37K8",
        "outputId": "6245a9df-c6d6-46f2-893a-5024436f1a38"
      },
      "source": [
        "!unzip vehicle-dataset-from-cardekho"
      ],
      "execution_count": null,
      "outputs": [
        {
          "output_type": "stream",
          "name": "stdout",
          "text": [
            "Archive:  vehicle-dataset-from-cardekho.zip\n",
            "  inflating: CAR DETAILS FROM CAR DEKHO.csv  \n",
            "  inflating: Car details v3.csv      \n",
            "  inflating: car data.csv            \n"
          ]
        }
      ]
    },
    {
      "cell_type": "markdown",
      "metadata": {
        "id": "y8NIYo21KcXk"
      },
      "source": [
        "masukkan data ke variabel cars"
      ]
    },
    {
      "cell_type": "code",
      "metadata": {
        "colab": {
          "base_uri": "https://localhost:8080/",
          "height": 580
        },
        "id": "p5ZrmAtJ4OiX",
        "outputId": "9adcd631-1c6c-420c-8cad-607667f025b0"
      },
      "source": [
        "cars = pd.read_csv('/content/Car details v3.csv')\n",
        "cars"
      ],
      "execution_count": null,
      "outputs": [
        {
          "output_type": "execute_result",
          "data": {
            "text/html": [
              "<div>\n",
              "<style scoped>\n",
              "    .dataframe tbody tr th:only-of-type {\n",
              "        vertical-align: middle;\n",
              "    }\n",
              "\n",
              "    .dataframe tbody tr th {\n",
              "        vertical-align: top;\n",
              "    }\n",
              "\n",
              "    .dataframe thead th {\n",
              "        text-align: right;\n",
              "    }\n",
              "</style>\n",
              "<table border=\"1\" class=\"dataframe\">\n",
              "  <thead>\n",
              "    <tr style=\"text-align: right;\">\n",
              "      <th></th>\n",
              "      <th>name</th>\n",
              "      <th>year</th>\n",
              "      <th>selling_price</th>\n",
              "      <th>km_driven</th>\n",
              "      <th>fuel</th>\n",
              "      <th>seller_type</th>\n",
              "      <th>transmission</th>\n",
              "      <th>owner</th>\n",
              "      <th>mileage</th>\n",
              "      <th>engine</th>\n",
              "      <th>max_power</th>\n",
              "      <th>torque</th>\n",
              "      <th>seats</th>\n",
              "    </tr>\n",
              "  </thead>\n",
              "  <tbody>\n",
              "    <tr>\n",
              "      <th>0</th>\n",
              "      <td>Maruti Swift Dzire VDI</td>\n",
              "      <td>2014</td>\n",
              "      <td>450000</td>\n",
              "      <td>145500</td>\n",
              "      <td>Diesel</td>\n",
              "      <td>Individual</td>\n",
              "      <td>Manual</td>\n",
              "      <td>First Owner</td>\n",
              "      <td>23.4 kmpl</td>\n",
              "      <td>1248 CC</td>\n",
              "      <td>74 bhp</td>\n",
              "      <td>190Nm@ 2000rpm</td>\n",
              "      <td>5.0</td>\n",
              "    </tr>\n",
              "    <tr>\n",
              "      <th>1</th>\n",
              "      <td>Skoda Rapid 1.5 TDI Ambition</td>\n",
              "      <td>2014</td>\n",
              "      <td>370000</td>\n",
              "      <td>120000</td>\n",
              "      <td>Diesel</td>\n",
              "      <td>Individual</td>\n",
              "      <td>Manual</td>\n",
              "      <td>Second Owner</td>\n",
              "      <td>21.14 kmpl</td>\n",
              "      <td>1498 CC</td>\n",
              "      <td>103.52 bhp</td>\n",
              "      <td>250Nm@ 1500-2500rpm</td>\n",
              "      <td>5.0</td>\n",
              "    </tr>\n",
              "    <tr>\n",
              "      <th>2</th>\n",
              "      <td>Honda City 2017-2020 EXi</td>\n",
              "      <td>2006</td>\n",
              "      <td>158000</td>\n",
              "      <td>140000</td>\n",
              "      <td>Petrol</td>\n",
              "      <td>Individual</td>\n",
              "      <td>Manual</td>\n",
              "      <td>Third Owner</td>\n",
              "      <td>17.7 kmpl</td>\n",
              "      <td>1497 CC</td>\n",
              "      <td>78 bhp</td>\n",
              "      <td>12.7@ 2,700(kgm@ rpm)</td>\n",
              "      <td>5.0</td>\n",
              "    </tr>\n",
              "    <tr>\n",
              "      <th>3</th>\n",
              "      <td>Hyundai i20 Sportz Diesel</td>\n",
              "      <td>2010</td>\n",
              "      <td>225000</td>\n",
              "      <td>127000</td>\n",
              "      <td>Diesel</td>\n",
              "      <td>Individual</td>\n",
              "      <td>Manual</td>\n",
              "      <td>First Owner</td>\n",
              "      <td>23.0 kmpl</td>\n",
              "      <td>1396 CC</td>\n",
              "      <td>90 bhp</td>\n",
              "      <td>22.4 kgm at 1750-2750rpm</td>\n",
              "      <td>5.0</td>\n",
              "    </tr>\n",
              "    <tr>\n",
              "      <th>4</th>\n",
              "      <td>Maruti Swift VXI BSIII</td>\n",
              "      <td>2007</td>\n",
              "      <td>130000</td>\n",
              "      <td>120000</td>\n",
              "      <td>Petrol</td>\n",
              "      <td>Individual</td>\n",
              "      <td>Manual</td>\n",
              "      <td>First Owner</td>\n",
              "      <td>16.1 kmpl</td>\n",
              "      <td>1298 CC</td>\n",
              "      <td>88.2 bhp</td>\n",
              "      <td>11.5@ 4,500(kgm@ rpm)</td>\n",
              "      <td>5.0</td>\n",
              "    </tr>\n",
              "    <tr>\n",
              "      <th>...</th>\n",
              "      <td>...</td>\n",
              "      <td>...</td>\n",
              "      <td>...</td>\n",
              "      <td>...</td>\n",
              "      <td>...</td>\n",
              "      <td>...</td>\n",
              "      <td>...</td>\n",
              "      <td>...</td>\n",
              "      <td>...</td>\n",
              "      <td>...</td>\n",
              "      <td>...</td>\n",
              "      <td>...</td>\n",
              "      <td>...</td>\n",
              "    </tr>\n",
              "    <tr>\n",
              "      <th>8123</th>\n",
              "      <td>Hyundai i20 Magna</td>\n",
              "      <td>2013</td>\n",
              "      <td>320000</td>\n",
              "      <td>110000</td>\n",
              "      <td>Petrol</td>\n",
              "      <td>Individual</td>\n",
              "      <td>Manual</td>\n",
              "      <td>First Owner</td>\n",
              "      <td>18.5 kmpl</td>\n",
              "      <td>1197 CC</td>\n",
              "      <td>82.85 bhp</td>\n",
              "      <td>113.7Nm@ 4000rpm</td>\n",
              "      <td>5.0</td>\n",
              "    </tr>\n",
              "    <tr>\n",
              "      <th>8124</th>\n",
              "      <td>Hyundai Verna CRDi SX</td>\n",
              "      <td>2007</td>\n",
              "      <td>135000</td>\n",
              "      <td>119000</td>\n",
              "      <td>Diesel</td>\n",
              "      <td>Individual</td>\n",
              "      <td>Manual</td>\n",
              "      <td>Fourth &amp; Above Owner</td>\n",
              "      <td>16.8 kmpl</td>\n",
              "      <td>1493 CC</td>\n",
              "      <td>110 bhp</td>\n",
              "      <td>24@ 1,900-2,750(kgm@ rpm)</td>\n",
              "      <td>5.0</td>\n",
              "    </tr>\n",
              "    <tr>\n",
              "      <th>8125</th>\n",
              "      <td>Maruti Swift Dzire ZDi</td>\n",
              "      <td>2009</td>\n",
              "      <td>382000</td>\n",
              "      <td>120000</td>\n",
              "      <td>Diesel</td>\n",
              "      <td>Individual</td>\n",
              "      <td>Manual</td>\n",
              "      <td>First Owner</td>\n",
              "      <td>19.3 kmpl</td>\n",
              "      <td>1248 CC</td>\n",
              "      <td>73.9 bhp</td>\n",
              "      <td>190Nm@ 2000rpm</td>\n",
              "      <td>5.0</td>\n",
              "    </tr>\n",
              "    <tr>\n",
              "      <th>8126</th>\n",
              "      <td>Tata Indigo CR4</td>\n",
              "      <td>2013</td>\n",
              "      <td>290000</td>\n",
              "      <td>25000</td>\n",
              "      <td>Diesel</td>\n",
              "      <td>Individual</td>\n",
              "      <td>Manual</td>\n",
              "      <td>First Owner</td>\n",
              "      <td>23.57 kmpl</td>\n",
              "      <td>1396 CC</td>\n",
              "      <td>70 bhp</td>\n",
              "      <td>140Nm@ 1800-3000rpm</td>\n",
              "      <td>5.0</td>\n",
              "    </tr>\n",
              "    <tr>\n",
              "      <th>8127</th>\n",
              "      <td>Tata Indigo CR4</td>\n",
              "      <td>2013</td>\n",
              "      <td>290000</td>\n",
              "      <td>25000</td>\n",
              "      <td>Diesel</td>\n",
              "      <td>Individual</td>\n",
              "      <td>Manual</td>\n",
              "      <td>First Owner</td>\n",
              "      <td>23.57 kmpl</td>\n",
              "      <td>1396 CC</td>\n",
              "      <td>70 bhp</td>\n",
              "      <td>140Nm@ 1800-3000rpm</td>\n",
              "      <td>5.0</td>\n",
              "    </tr>\n",
              "  </tbody>\n",
              "</table>\n",
              "<p>8128 rows × 13 columns</p>\n",
              "</div>"
            ],
            "text/plain": [
              "                              name  year  ...                     torque  seats\n",
              "0           Maruti Swift Dzire VDI  2014  ...             190Nm@ 2000rpm    5.0\n",
              "1     Skoda Rapid 1.5 TDI Ambition  2014  ...        250Nm@ 1500-2500rpm    5.0\n",
              "2         Honda City 2017-2020 EXi  2006  ...      12.7@ 2,700(kgm@ rpm)    5.0\n",
              "3        Hyundai i20 Sportz Diesel  2010  ...   22.4 kgm at 1750-2750rpm    5.0\n",
              "4           Maruti Swift VXI BSIII  2007  ...      11.5@ 4,500(kgm@ rpm)    5.0\n",
              "...                            ...   ...  ...                        ...    ...\n",
              "8123             Hyundai i20 Magna  2013  ...           113.7Nm@ 4000rpm    5.0\n",
              "8124         Hyundai Verna CRDi SX  2007  ...  24@ 1,900-2,750(kgm@ rpm)    5.0\n",
              "8125        Maruti Swift Dzire ZDi  2009  ...             190Nm@ 2000rpm    5.0\n",
              "8126               Tata Indigo CR4  2013  ...        140Nm@ 1800-3000rpm    5.0\n",
              "8127               Tata Indigo CR4  2013  ...        140Nm@ 1800-3000rpm    5.0\n",
              "\n",
              "[8128 rows x 13 columns]"
            ]
          },
          "metadata": {},
          "execution_count": 5
        }
      ]
    },
    {
      "cell_type": "markdown",
      "metadata": {
        "id": "iN77KRBINfyJ"
      },
      "source": [
        "output diatas memberikan informasi sebagai berikut:\n",
        "- ada 8128 baris(records atau jumlah pengamatan) dalam dataset\n",
        "- terdapat 13 kolom yaitu: name year selling_price km_driven\tfuel\tseller_type transmission owner\tmileage engine max_power torque seats"
      ]
    },
    {
      "cell_type": "markdown",
      "metadata": {
        "id": "AYv4bYkzR3Ad"
      },
      "source": [
        "Deskripsi Variabel\n",
        "1. name: nama mobil\n",
        "2. year: tahun pembelian mobil\n",
        "3. selling_price: harga yang diinginkan pemilik untuk menjual mobil\n",
        "4. km_driven: jumlah kilometer yang ditempuh mobil tersebut\n",
        "5. fuel: jenis bahan bakar mobil(Diesel/Petrol)\n",
        "6. seller_type: mobil yang dijual oleh (individu/dealer)\n",
        "7. transmission: transmisi gigi mobil (Automatic/Manual)\n",
        "8. owner: kepemilikan mobil\n",
        "9. mileage: jarak tempuh mobil\n",
        "10. engine: kapasitas mesin mobil\n",
        "11. max_power: tenaga maksimal mobil\n",
        "12. torque: torsi mobil\n",
        "13. seats: jumlah penumpang"
      ]
    },
    {
      "cell_type": "markdown",
      "metadata": {
        "id": "3Dph6WvrCz-F"
      },
      "source": [
        "menambahkan variabel tahun yang berisikan 2021 adalah tahun saat model ini di buat"
      ]
    },
    {
      "cell_type": "code",
      "metadata": {
        "id": "riEYtexgjOcH"
      },
      "source": [
        "cars['current'] = 2021"
      ],
      "execution_count": null,
      "outputs": []
    },
    {
      "cell_type": "markdown",
      "metadata": {
        "id": "pvT6FAG7C3Hb"
      },
      "source": [
        "menambahkan variabel age untuk kolom usia mobil"
      ]
    },
    {
      "cell_type": "code",
      "metadata": {
        "id": "ZevtCMPLjcRG"
      },
      "source": [
        "cars['age']=cars['current']-cars['year']"
      ],
      "execution_count": null,
      "outputs": []
    },
    {
      "cell_type": "markdown",
      "metadata": {
        "id": "0N4IaTICC7gm"
      },
      "source": [
        "hapus kolom yang tidak di butuhkan"
      ]
    },
    {
      "cell_type": "code",
      "metadata": {
        "colab": {
          "base_uri": "https://localhost:8080/",
          "height": 206
        },
        "id": "MJplw-GHj9pm",
        "outputId": "c5bd75e9-c4ba-4621-81c4-81e049795c19"
      },
      "source": [
        "cars.drop(['current','year','name','mileage','engine','max_power','torque','seats'],axis=1,inplace=True)\n",
        "cars.head()"
      ],
      "execution_count": null,
      "outputs": [
        {
          "output_type": "execute_result",
          "data": {
            "text/html": [
              "<div>\n",
              "<style scoped>\n",
              "    .dataframe tbody tr th:only-of-type {\n",
              "        vertical-align: middle;\n",
              "    }\n",
              "\n",
              "    .dataframe tbody tr th {\n",
              "        vertical-align: top;\n",
              "    }\n",
              "\n",
              "    .dataframe thead th {\n",
              "        text-align: right;\n",
              "    }\n",
              "</style>\n",
              "<table border=\"1\" class=\"dataframe\">\n",
              "  <thead>\n",
              "    <tr style=\"text-align: right;\">\n",
              "      <th></th>\n",
              "      <th>selling_price</th>\n",
              "      <th>km_driven</th>\n",
              "      <th>fuel</th>\n",
              "      <th>seller_type</th>\n",
              "      <th>transmission</th>\n",
              "      <th>owner</th>\n",
              "      <th>age</th>\n",
              "    </tr>\n",
              "  </thead>\n",
              "  <tbody>\n",
              "    <tr>\n",
              "      <th>0</th>\n",
              "      <td>450000</td>\n",
              "      <td>145500</td>\n",
              "      <td>Diesel</td>\n",
              "      <td>Individual</td>\n",
              "      <td>Manual</td>\n",
              "      <td>First Owner</td>\n",
              "      <td>7</td>\n",
              "    </tr>\n",
              "    <tr>\n",
              "      <th>1</th>\n",
              "      <td>370000</td>\n",
              "      <td>120000</td>\n",
              "      <td>Diesel</td>\n",
              "      <td>Individual</td>\n",
              "      <td>Manual</td>\n",
              "      <td>Second Owner</td>\n",
              "      <td>7</td>\n",
              "    </tr>\n",
              "    <tr>\n",
              "      <th>2</th>\n",
              "      <td>158000</td>\n",
              "      <td>140000</td>\n",
              "      <td>Petrol</td>\n",
              "      <td>Individual</td>\n",
              "      <td>Manual</td>\n",
              "      <td>Third Owner</td>\n",
              "      <td>15</td>\n",
              "    </tr>\n",
              "    <tr>\n",
              "      <th>3</th>\n",
              "      <td>225000</td>\n",
              "      <td>127000</td>\n",
              "      <td>Diesel</td>\n",
              "      <td>Individual</td>\n",
              "      <td>Manual</td>\n",
              "      <td>First Owner</td>\n",
              "      <td>11</td>\n",
              "    </tr>\n",
              "    <tr>\n",
              "      <th>4</th>\n",
              "      <td>130000</td>\n",
              "      <td>120000</td>\n",
              "      <td>Petrol</td>\n",
              "      <td>Individual</td>\n",
              "      <td>Manual</td>\n",
              "      <td>First Owner</td>\n",
              "      <td>14</td>\n",
              "    </tr>\n",
              "  </tbody>\n",
              "</table>\n",
              "</div>"
            ],
            "text/plain": [
              "   selling_price  km_driven    fuel seller_type transmission         owner  age\n",
              "0         450000     145500  Diesel  Individual       Manual   First Owner    7\n",
              "1         370000     120000  Diesel  Individual       Manual  Second Owner    7\n",
              "2         158000     140000  Petrol  Individual       Manual   Third Owner   15\n",
              "3         225000     127000  Diesel  Individual       Manual   First Owner   11\n",
              "4         130000     120000  Petrol  Individual       Manual   First Owner   14"
            ]
          },
          "metadata": {},
          "execution_count": 8
        }
      ]
    },
    {
      "cell_type": "markdown",
      "metadata": {
        "id": "tsr02rMpDgEK"
      },
      "source": [
        "cek informasi pada dataset"
      ]
    },
    {
      "cell_type": "code",
      "metadata": {
        "colab": {
          "base_uri": "https://localhost:8080/"
        },
        "id": "HfHDGtOu45ey",
        "outputId": "cb862204-51e5-4400-851a-9f226e7c35bf"
      },
      "source": [
        "cars.info()"
      ],
      "execution_count": null,
      "outputs": [
        {
          "output_type": "stream",
          "name": "stdout",
          "text": [
            "<class 'pandas.core.frame.DataFrame'>\n",
            "RangeIndex: 8128 entries, 0 to 8127\n",
            "Data columns (total 7 columns):\n",
            " #   Column         Non-Null Count  Dtype \n",
            "---  ------         --------------  ----- \n",
            " 0   selling_price  8128 non-null   int64 \n",
            " 1   km_driven      8128 non-null   int64 \n",
            " 2   fuel           8128 non-null   object\n",
            " 3   seller_type    8128 non-null   object\n",
            " 4   transmission   8128 non-null   object\n",
            " 5   owner          8128 non-null   object\n",
            " 6   age            8128 non-null   int64 \n",
            "dtypes: int64(3), object(4)\n",
            "memory usage: 444.6+ KB\n"
          ]
        }
      ]
    },
    {
      "cell_type": "markdown",
      "metadata": {
        "id": "4x5quT9LUcWa"
      },
      "source": [
        "Dari output di atas dapat dilihat bahwa:\n",
        "- terdapat 4 kolom dengan tipe object, yaitu: furl, seller_type, trasmission, owner. kolom ini merupakan categorical features(fitur non-numerik)\n",
        "- terdapat 3 kolom numerik dengan tipe int64, yaitu: selling_price, km_driven, age. kolom ini merupakan numerical features(fitur numerik)"
      ]
    },
    {
      "cell_type": "markdown",
      "metadata": {
        "id": "JbL8fOrXDi_8"
      },
      "source": [
        "cek ukuran data"
      ]
    },
    {
      "cell_type": "code",
      "metadata": {
        "colab": {
          "base_uri": "https://localhost:8080/"
        },
        "id": "e24dCac_lGF_",
        "outputId": "9ffb754b-fdbf-4d50-c23c-052e946a68d3"
      },
      "source": [
        "cars.shape"
      ],
      "execution_count": null,
      "outputs": [
        {
          "output_type": "execute_result",
          "data": {
            "text/plain": [
              "(8128, 7)"
            ]
          },
          "metadata": {},
          "execution_count": 10
        }
      ]
    },
    {
      "cell_type": "markdown",
      "metadata": {
        "id": "aNSQy2gZDmXV"
      },
      "source": [
        "cek data kosong"
      ]
    },
    {
      "cell_type": "code",
      "metadata": {
        "colab": {
          "base_uri": "https://localhost:8080/"
        },
        "id": "9OIsZBqplRne",
        "outputId": "8c8bd732-ecf9-478a-d98a-a31877a1f781"
      },
      "source": [
        "cars.isnull().sum()"
      ],
      "execution_count": null,
      "outputs": [
        {
          "output_type": "execute_result",
          "data": {
            "text/plain": [
              "selling_price    0\n",
              "km_driven        0\n",
              "fuel             0\n",
              "seller_type      0\n",
              "transmission     0\n",
              "owner            0\n",
              "age              0\n",
              "dtype: int64"
            ]
          },
          "metadata": {},
          "execution_count": 11
        }
      ]
    },
    {
      "cell_type": "markdown",
      "metadata": {
        "id": "youyvOkaDqU7"
      },
      "source": [
        "cek deskripsi statistik data"
      ]
    },
    {
      "cell_type": "code",
      "metadata": {
        "colab": {
          "base_uri": "https://localhost:8080/",
          "height": 300
        },
        "id": "kOPccmDj66qX",
        "outputId": "eb990c14-6ae6-4d94-965c-59e4d93cf4d8"
      },
      "source": [
        "cars.describe()"
      ],
      "execution_count": null,
      "outputs": [
        {
          "output_type": "execute_result",
          "data": {
            "text/html": [
              "<div>\n",
              "<style scoped>\n",
              "    .dataframe tbody tr th:only-of-type {\n",
              "        vertical-align: middle;\n",
              "    }\n",
              "\n",
              "    .dataframe tbody tr th {\n",
              "        vertical-align: top;\n",
              "    }\n",
              "\n",
              "    .dataframe thead th {\n",
              "        text-align: right;\n",
              "    }\n",
              "</style>\n",
              "<table border=\"1\" class=\"dataframe\">\n",
              "  <thead>\n",
              "    <tr style=\"text-align: right;\">\n",
              "      <th></th>\n",
              "      <th>selling_price</th>\n",
              "      <th>km_driven</th>\n",
              "      <th>age</th>\n",
              "    </tr>\n",
              "  </thead>\n",
              "  <tbody>\n",
              "    <tr>\n",
              "      <th>count</th>\n",
              "      <td>8.128000e+03</td>\n",
              "      <td>8.128000e+03</td>\n",
              "      <td>8128.000000</td>\n",
              "    </tr>\n",
              "    <tr>\n",
              "      <th>mean</th>\n",
              "      <td>6.382718e+05</td>\n",
              "      <td>6.981951e+04</td>\n",
              "      <td>7.195989</td>\n",
              "    </tr>\n",
              "    <tr>\n",
              "      <th>std</th>\n",
              "      <td>8.062534e+05</td>\n",
              "      <td>5.655055e+04</td>\n",
              "      <td>4.044249</td>\n",
              "    </tr>\n",
              "    <tr>\n",
              "      <th>min</th>\n",
              "      <td>2.999900e+04</td>\n",
              "      <td>1.000000e+00</td>\n",
              "      <td>1.000000</td>\n",
              "    </tr>\n",
              "    <tr>\n",
              "      <th>25%</th>\n",
              "      <td>2.549990e+05</td>\n",
              "      <td>3.500000e+04</td>\n",
              "      <td>4.000000</td>\n",
              "    </tr>\n",
              "    <tr>\n",
              "      <th>50%</th>\n",
              "      <td>4.500000e+05</td>\n",
              "      <td>6.000000e+04</td>\n",
              "      <td>6.000000</td>\n",
              "    </tr>\n",
              "    <tr>\n",
              "      <th>75%</th>\n",
              "      <td>6.750000e+05</td>\n",
              "      <td>9.800000e+04</td>\n",
              "      <td>10.000000</td>\n",
              "    </tr>\n",
              "    <tr>\n",
              "      <th>max</th>\n",
              "      <td>1.000000e+07</td>\n",
              "      <td>2.360457e+06</td>\n",
              "      <td>38.000000</td>\n",
              "    </tr>\n",
              "  </tbody>\n",
              "</table>\n",
              "</div>"
            ],
            "text/plain": [
              "       selling_price     km_driven          age\n",
              "count   8.128000e+03  8.128000e+03  8128.000000\n",
              "mean    6.382718e+05  6.981951e+04     7.195989\n",
              "std     8.062534e+05  5.655055e+04     4.044249\n",
              "min     2.999900e+04  1.000000e+00     1.000000\n",
              "25%     2.549990e+05  3.500000e+04     4.000000\n",
              "50%     4.500000e+05  6.000000e+04     6.000000\n",
              "75%     6.750000e+05  9.800000e+04    10.000000\n",
              "max     1.000000e+07  2.360457e+06    38.000000"
            ]
          },
          "metadata": {},
          "execution_count": 12
        }
      ]
    },
    {
      "cell_type": "markdown",
      "metadata": {
        "id": "qR6YfjCiVzpV"
      },
      "source": [
        "fungsi describe() memberikan informasi statistik pada masing-masing kolom , antara lain:\n",
        "- count adalah jumlah sampel pada data\n",
        "- mean adalah nilai rata-rata\n",
        "- std adalah standar deviasi\n",
        "- min adalah nilai minimum setiap kolom\n",
        "- 25% adalah kuartil pertama. kuartil adalah nilai yang menandai batas interval dalam empat bagian yang sama\n",
        "- 50% adalah kuartil kedua, atau juga bisa di sebut median(nilai tengah)\n",
        "- 75% adalah kuartil ketiga\n",
        "- max adalah nilai maksimum"
      ]
    },
    {
      "cell_type": "markdown",
      "metadata": {
        "id": "kVguVKV2EqML"
      },
      "source": [
        "**Menangani Outliers**\n",
        "\n",
        "menggunakan teknik teknik visualisasi data.\n",
        "\n",
        "\n",
        "visualisasi pada fitur numerik\n",
        "- selling_price\n",
        "- km_driven\n",
        "- age\n"
      ]
    },
    {
      "cell_type": "markdown",
      "metadata": {
        "id": "mvJEGup0GAlP"
      },
      "source": [
        "1. fitur selling price"
      ]
    },
    {
      "cell_type": "code",
      "metadata": {
        "colab": {
          "base_uri": "https://localhost:8080/",
          "height": 298
        },
        "id": "d6aT7lDhmrUM",
        "outputId": "763d8baf-98c7-4d5d-caf8-3e515891a02b"
      },
      "source": [
        "sns.boxplot(x=cars['selling_price'])"
      ],
      "execution_count": null,
      "outputs": [
        {
          "output_type": "execute_result",
          "data": {
            "text/plain": [
              "<matplotlib.axes._subplots.AxesSubplot at 0x7f54f3359ad0>"
            ]
          },
          "metadata": {},
          "execution_count": 13
        },
        {
          "output_type": "display_data",
          "data": {
            "image/png": "[encoded data removed]",
            "text/plain": [
              "<Figure size 432x288 with 1 Axes>"
            ]
          },
          "metadata": {
            "needs_background": "light"
          }
        }
      ]
    },
    {
      "cell_type": "markdown",
      "metadata": {
        "id": "MZpmj0x2GDW0"
      },
      "source": [
        "2. fitur km_driven"
      ]
    },
    {
      "cell_type": "code",
      "metadata": {
        "colab": {
          "base_uri": "https://localhost:8080/",
          "height": 298
        },
        "id": "E8kjNgsAa1eO",
        "outputId": "dc73a52e-a399-4ae2-80f2-c1a4bb46a78f"
      },
      "source": [
        "sns.boxplot(x=cars['km_driven'])"
      ],
      "execution_count": null,
      "outputs": [
        {
          "output_type": "execute_result",
          "data": {
            "text/plain": [
              "<matplotlib.axes._subplots.AxesSubplot at 0x7f54f2fd7850>"
            ]
          },
          "metadata": {},
          "execution_count": 14
        },
        {
          "output_type": "display_data",
          "data": {
            "image/png": "[encoded data removed]",
            "text/plain": [
              "<Figure size 432x288 with 1 Axes>"
            ]
          },
          "metadata": {
            "needs_background": "light"
          }
        }
      ]
    },
    {
      "cell_type": "markdown",
      "metadata": {
        "id": "YznkA1CyGF2R"
      },
      "source": [
        "3. fitur age"
      ]
    },
    {
      "cell_type": "code",
      "metadata": {
        "colab": {
          "base_uri": "https://localhost:8080/",
          "height": 297
        },
        "id": "9mo_H0zmmEBa",
        "outputId": "2e08f46f-c629-48b6-923f-669919781170"
      },
      "source": [
        "sns.boxplot(x=cars['age'])"
      ],
      "execution_count": null,
      "outputs": [
        {
          "output_type": "execute_result",
          "data": {
            "text/plain": [
              "<matplotlib.axes._subplots.AxesSubplot at 0x7f54f2aff210>"
            ]
          },
          "metadata": {},
          "execution_count": 15
        },
        {
          "output_type": "display_data",
          "data": {
            "image/png": "[encoded data removed]",
            "text/plain": [
              "<Figure size 432x288 with 1 Axes>"
            ]
          },
          "metadata": {
            "needs_background": "light"
          }
        }
      ]
    },
    {
      "cell_type": "markdown",
      "metadata": {
        "id": "CBHif2W6F0fC"
      },
      "source": [
        "drop outliners dan cek ukuran dataset"
      ]
    },
    {
      "cell_type": "code",
      "metadata": {
        "colab": {
          "base_uri": "https://localhost:8080/"
        },
        "id": "6TT-hsNcmTDL",
        "outputId": "3ba29791-baee-4e4c-bf69-1c22c073ea66"
      },
      "source": [
        "Q1 = cars.quantile(0.25)\n",
        "Q3 = cars.quantile(0.75)\n",
        "IQR=Q3-Q1\n",
        "carss=cars[~((cars<(Q1-1.5*IQR))|(cars>(Q3+1.5*IQR))).any(axis=1)]\n",
        "     \n",
        "cars.shape"
      ],
      "execution_count": null,
      "outputs": [
        {
          "output_type": "execute_result",
          "data": {
            "text/plain": [
              "(8128, 7)"
            ]
          },
          "metadata": {},
          "execution_count": 16
        }
      ]
    },
    {
      "cell_type": "markdown",
      "metadata": {
        "id": "WaBjXJTNnKyC"
      },
      "source": [
        "### Exploratory Data Analysis"
      ]
    },
    {
      "cell_type": "markdown",
      "metadata": {
        "id": "SPNb2dnPnewK"
      },
      "source": [
        "#### Univariate Analysis\n",
        "\n",
        "---\n",
        "\n",
        "\n",
        "proses analisis data dengan teknik Univariate EDA. Pertama, bagi fitur pada dataset menjadi dua bagian, yaitu numerical features dan categorical features."
      ]
    },
    {
      "cell_type": "code",
      "metadata": {
        "id": "DBx-IM6FnTkA"
      },
      "source": [
        "numerical_feature = ['selling_price','km_driven','age']\n",
        "categorical_feature = ['fuel','seller_type','owner']"
      ],
      "execution_count": null,
      "outputs": []
    },
    {
      "cell_type": "markdown",
      "metadata": {
        "id": "dXlVaZXwVR1K"
      },
      "source": [
        "Categorical Features\n",
        "- bahan bakar\n",
        "- seller_type\n",
        "- owner"
      ]
    },
    {
      "cell_type": "markdown",
      "metadata": {
        "id": "ciC2sTP0G-zG"
      },
      "source": [
        "1. fitur bahan bakar"
      ]
    },
    {
      "cell_type": "code",
      "metadata": {
        "colab": {
          "base_uri": "https://localhost:8080/",
          "height": 394
        },
        "id": "qUmR6r9qo9RU",
        "outputId": "980dc6fa-52d4-42f3-eef9-ea62335a2055"
      },
      "source": [
        "feature = categorical_feature[0]\n",
        "count = carss[feature].value_counts()\n",
        "percent = 100*cars[feature].value_counts(normalize=True)\n",
        "df = pd.DataFrame({'jumlah sampel':count, 'persentase':percent.round(1)})\n",
        "print(df)\n",
        "count.plot(kind='bar', title=feature);"
      ],
      "execution_count": null,
      "outputs": [
        {
          "output_type": "stream",
          "name": "stdout",
          "text": [
            "        jumlah sampel  persentase\n",
            "Diesel           3755        54.2\n",
            "Petrol           3437        44.7\n",
            "CNG                55         0.7\n",
            "LPG                35         0.5\n"
          ]
        },
        {
          "output_type": "display_data",
          "data": {
            "image/png": "[encoded data removed]",
            "text/plain": [
              "<Figure size 432x288 with 1 Axes>"
            ]
          },
          "metadata": {
            "needs_background": "light"
          }
        }
      ]
    },
    {
      "cell_type": "markdown",
      "metadata": {
        "id": "qQwIk4I2FlKv"
      },
      "source": [
        "2. fitur seller type"
      ]
    },
    {
      "cell_type": "code",
      "metadata": {
        "colab": {
          "base_uri": "https://localhost:8080/",
          "height": 431
        },
        "id": "cxpXrMc6pouP",
        "outputId": "430eb100-5d2b-4852-bb03-202112d5fec5"
      },
      "source": [
        "feature = categorical_feature[1]\n",
        "count = carss[feature].value_counts()\n",
        "percent = 100*cars[feature].value_counts(normalize=True)\n",
        "df = pd.DataFrame({'jumlah sampel':count, 'persentase':percent.round(1)})\n",
        "print(df)\n",
        "count.plot(kind='bar', title=feature);"
      ],
      "execution_count": null,
      "outputs": [
        {
          "output_type": "stream",
          "name": "stdout",
          "text": [
            "                  jumlah sampel  persentase\n",
            "Individual                 6288        83.2\n",
            "Dealer                      790        13.9\n",
            "Trustmark Dealer            204         2.9\n"
          ]
        },
        {
          "output_type": "display_data",
          "data": {
            "image/png": "[encoded data removed]",
            "text/plain": [
              "<Figure size 432x288 with 1 Axes>"
            ]
          },
          "metadata": {
            "needs_background": "light"
          }
        }
      ]
    },
    {
      "cell_type": "markdown",
      "metadata": {
        "id": "geR-B2i_FqHR"
      },
      "source": [
        "3. fitur owner"
      ]
    },
    {
      "cell_type": "code",
      "metadata": {
        "colab": {
          "base_uri": "https://localhost:8080/",
          "height": 495
        },
        "id": "0Khlz60mp1tf",
        "outputId": "e9e7362a-d1e6-449e-e199-b2c93b6c73df"
      },
      "source": [
        "feature = categorical_feature[2]\n",
        "count = carss[feature].value_counts()\n",
        "percent = 100*cars[feature].value_counts(normalize=True)\n",
        "df = pd.DataFrame({'jumlah sampel':count, 'persentase':percent.round(1)})\n",
        "print(df)\n",
        "count.plot(kind='bar', title=feature);"
      ],
      "execution_count": null,
      "outputs": [
        {
          "output_type": "stream",
          "name": "stdout",
          "text": [
            "                      jumlah sampel  persentase\n",
            "First Owner                  4663.0        65.1\n",
            "Fourth & Above Owner          150.0         2.1\n",
            "Second Owner                 1954.0        25.9\n",
            "Test Drive Car                  NaN         0.1\n",
            "Third Owner                   515.0         6.8\n"
          ]
        },
        {
          "output_type": "display_data",
          "data": {
            "image/png": "[encoded data removed]",
            "text/plain": [
              "<Figure size 432x288 with 1 Axes>"
            ]
          },
          "metadata": {
            "needs_background": "light"
          }
        }
      ]
    },
    {
      "cell_type": "markdown",
      "metadata": {
        "id": "d6Klbd-DVE_O"
      },
      "source": [
        "Numerical Features\n",
        "\n",
        "melihat histogram di masing-masing fitur\n",
        "\n"
      ]
    },
    {
      "cell_type": "code",
      "metadata": {
        "colab": {
          "base_uri": "https://localhost:8080/",
          "height": 879
        },
        "id": "XVg7hAyFVjoE",
        "outputId": "c1751e81-b6dd-4a2c-d4b4-5676f0532721"
      },
      "source": [
        "cars.hist(bins=50, figsize=(20,15))\n",
        "plt.show()"
      ],
      "execution_count": null,
      "outputs": [
        {
          "output_type": "display_data",
          "data": {
            "image/png": "[encoded data removed]",
            "text/plain": [
              "<Figure size 1440x1080 with 4 Axes>"
            ]
          },
          "metadata": {
            "needs_background": "light"
          }
        }
      ]
    },
    {
      "cell_type": "markdown",
      "metadata": {
        "id": "VgMIT8PBWi1F"
      },
      "source": [
        "#### Multivariate Analysis\n",
        "\n",
        "\n",
        "---\n",
        "\n",
        "\n",
        "Multivariate EDA menunjukkan hubungan antara dua atau lebih variabel pada data. Multivariate EDA yang menunjukkan hubungan antara dua variabel biasa disebut sebagai bivariate EDA.\n",
        "\n",
        "\n",
        "---\n",
        "\n",
        "\n",
        "Melakukan analisis data pada fitur kategori dan numerik"
      ]
    },
    {
      "cell_type": "markdown",
      "metadata": {
        "id": "401DLD9eXN3d"
      },
      "source": [
        "**Categorical Features**\n",
        "\n",
        "cek rata-rata harga terhadap masing-masing fitur untuk mengetahui pengaruh fitur kategori terhadap harga"
      ]
    },
    {
      "cell_type": "code",
      "metadata": {
        "colab": {
          "base_uri": "https://localhost:8080/",
          "height": 1000
        },
        "id": "XF2KCb4xWqVw",
        "outputId": "33a41aa4-36a5-4a7e-e7be-aeb876fbd092"
      },
      "source": [
        "cat_features = cars.select_dtypes(include='object').columns.to_list()\n",
        "\n",
        "for col in cat_features:\n",
        "  sns.catplot(x=col, y=\"selling_price\", kind=\"bar\", dodge=False, height=4, aspect=3, data=cars, palette=\"Set3\")\n",
        "  plt.title(\"Rata-rata 'selling_price' Relatif terhadap - {}\".format(col))"
      ],
      "execution_count": null,
      "outputs": [
        {
          "output_type": "display_data",
          "data": {
            "image/png": "[encoded data removed]",
            "text/plain": [
              "<Figure size 864x288 with 1 Axes>"
            ]
          },
          "metadata": {
            "needs_background": "light"
          }
        },
        {
          "output_type": "display_data",
          "data": {
            "image/png": "[encoded data removed]",
            "text/plain": [
              "<Figure size 864x288 with 1 Axes>"
            ]
          },
          "metadata": {
            "needs_background": "light"
          }
        },
        {
          "output_type": "display_data",
          "data": {
            "image/png": "[encoded data removed]",
            "text/plain": [
              "<Figure size 864x288 with 1 Axes>"
            ]
          },
          "metadata": {
            "needs_background": "light"
          }
        },
        {
          "output_type": "display_data",
          "data": {
            "image/png": "[encoded data removed]",
            "text/plain": [
              "<Figure size 864x288 with 1 Axes>"
            ]
          },
          "metadata": {
            "needs_background": "light"
          }
        }
      ]
    },
    {
      "cell_type": "markdown",
      "metadata": {
        "id": "Tihhm7hOZm4q"
      },
      "source": [
        "**Numerical Features**\n",
        "\n",
        "observasi korelasi antara fitur numerik dengan fitur target menggunakan fungsi corr()\n",
        "\n"
      ]
    },
    {
      "cell_type": "markdown",
      "metadata": {
        "id": "APyUs4l4dXwz"
      },
      "source": [
        "mengamati hubungan antar fitur numerik dengan fungsi pairplot()"
      ]
    },
    {
      "cell_type": "code",
      "metadata": {
        "colab": {
          "base_uri": "https://localhost:8080/",
          "height": 568
        },
        "id": "vzQFb4jfZpgj",
        "outputId": "73b3c103-35c5-477b-8998-02275c75eaf6"
      },
      "source": [
        "sns.pairplot(cars, diag_kind = 'kde')"
      ],
      "execution_count": null,
      "outputs": [
        {
          "output_type": "execute_result",
          "data": {
            "text/plain": [
              "<seaborn.axisgrid.PairGrid at 0x7f54f2a814d0>"
            ]
          },
          "metadata": {},
          "execution_count": 23
        },
        {
          "output_type": "display_data",
          "data": {
            "image/png": "[encoded data removed]",
            "text/plain": [
              "<Figure size 540x540 with 12 Axes>"
            ]
          },
          "metadata": {
            "needs_background": "light"
          }
        }
      ]
    },
    {
      "cell_type": "code",
      "metadata": {
        "colab": {
          "base_uri": "https://localhost:8080/",
          "height": 523
        },
        "id": "gB1xexFgaQjV",
        "outputId": "74069a5e-b5d1-4c83-b9ab-3fb456d235ab"
      },
      "source": [
        "plt.figure(figsize=(10, 8))\n",
        "correlation_matrix = cars.corr().round(2)\n",
        "sns.heatmap(data=correlation_matrix, annot=True, cmap='coolwarm', linewidths=0.5, )\n",
        "plt.title(\"Correlation Matrix untuk Fitur Numerik \", size=20)"
      ],
      "execution_count": null,
      "outputs": [
        {
          "output_type": "execute_result",
          "data": {
            "text/plain": [
              "Text(0.5, 1.0, 'Correlation Matrix untuk Fitur Numerik ')"
            ]
          },
          "metadata": {},
          "execution_count": 24
        },
        {
          "output_type": "display_data",
          "data": {
            "image/png": "[encoded data removed]",
            "text/plain": [
              "<Figure size 720x576 with 2 Axes>"
            ]
          },
          "metadata": {
            "needs_background": "light"
          }
        }
      ]
    },
    {
      "cell_type": "markdown",
      "metadata": {
        "id": "bPMvoPTEd3kg"
      },
      "source": [
        "# Data Preparation\n",
        "\n",
        "\n",
        "---\n",
        "\n",
        "Data Preparation pada proyek ini berfungsi untuk mentransformasi pada data sehingga menjadi bentuk yang cocok untuk proses permodelan\n",
        "\n",
        "1.   Encoding fitur kategori.\n",
        "2.   Pembagian dataset dengan fungsi train_test_split dari library sklearn.\n",
        "3.   Standarisasi.\n",
        "\n"
      ]
    },
    {
      "cell_type": "markdown",
      "metadata": {
        "id": "wlSBV7NXeD0G"
      },
      "source": [
        "**1. Encoding Fitur Kategori**\n",
        "\n",
        "One-Hot Encoding adalah teknik yang merubah setiap nilai di dalam kolom menjadi kolom baru dan mengisinya dengan nilai biner dari variabel kategori ke variabel numerik menjadi 0 dan 1. One-hot-encoding berfungsi untuk mendapatkan fitur baru yang sesuai sehingga dapat mewakili variabel kategori.\n",
        "\n"
      ]
    },
    {
      "cell_type": "code",
      "metadata": {
        "colab": {
          "base_uri": "https://localhost:8080/",
          "height": 261
        },
        "id": "wPQHko4Kd6V0",
        "outputId": "317c80cc-b03f-4df4-864b-9c1ea87c6a0e"
      },
      "source": [
        "from sklearn.preprocessing import  OneHotEncoder\n",
        "cars = pd.concat([cars, pd.get_dummies(cars['fuel'], prefix='fuel', drop_first=True)],axis=1)\n",
        "cars = pd.concat([cars, pd.get_dummies(cars['seller_type'], prefix='seller_type', drop_first=True)],axis=1)\n",
        "cars = pd.concat([cars, pd.get_dummies(cars['transmission'], prefix='transmission', drop_first=True)],axis=1)\n",
        "cars = pd.concat([cars, pd.get_dummies(cars['owner'], prefix='owner', drop_first=True)],axis=1)\n",
        "cars.drop(['fuel','seller_type','transmission','owner'], axis=1, inplace=True)\n",
        "cars.head()"
      ],
      "execution_count": null,
      "outputs": [
        {
          "output_type": "execute_result",
          "data": {
            "text/html": [
              "<div>\n",
              "<style scoped>\n",
              "    .dataframe tbody tr th:only-of-type {\n",
              "        vertical-align: middle;\n",
              "    }\n",
              "\n",
              "    .dataframe tbody tr th {\n",
              "        vertical-align: top;\n",
              "    }\n",
              "\n",
              "    .dataframe thead th {\n",
              "        text-align: right;\n",
              "    }\n",
              "</style>\n",
              "<table border=\"1\" class=\"dataframe\">\n",
              "  <thead>\n",
              "    <tr style=\"text-align: right;\">\n",
              "      <th></th>\n",
              "      <th>selling_price</th>\n",
              "      <th>km_driven</th>\n",
              "      <th>age</th>\n",
              "      <th>fuel_Diesel</th>\n",
              "      <th>fuel_LPG</th>\n",
              "      <th>fuel_Petrol</th>\n",
              "      <th>seller_type_Individual</th>\n",
              "      <th>seller_type_Trustmark Dealer</th>\n",
              "      <th>transmission_Manual</th>\n",
              "      <th>owner_Fourth &amp; Above Owner</th>\n",
              "      <th>owner_Second Owner</th>\n",
              "      <th>owner_Test Drive Car</th>\n",
              "      <th>owner_Third Owner</th>\n",
              "    </tr>\n",
              "  </thead>\n",
              "  <tbody>\n",
              "    <tr>\n",
              "      <th>0</th>\n",
              "      <td>450000</td>\n",
              "      <td>145500</td>\n",
              "      <td>7</td>\n",
              "      <td>1</td>\n",
              "      <td>0</td>\n",
              "      <td>0</td>\n",
              "      <td>1</td>\n",
              "      <td>0</td>\n",
              "      <td>1</td>\n",
              "      <td>0</td>\n",
              "      <td>0</td>\n",
              "      <td>0</td>\n",
              "      <td>0</td>\n",
              "    </tr>\n",
              "    <tr>\n",
              "      <th>1</th>\n",
              "      <td>370000</td>\n",
              "      <td>120000</td>\n",
              "      <td>7</td>\n",
              "      <td>1</td>\n",
              "      <td>0</td>\n",
              "      <td>0</td>\n",
              "      <td>1</td>\n",
              "      <td>0</td>\n",
              "      <td>1</td>\n",
              "      <td>0</td>\n",
              "      <td>1</td>\n",
              "      <td>0</td>\n",
              "      <td>0</td>\n",
              "    </tr>\n",
              "    <tr>\n",
              "      <th>2</th>\n",
              "      <td>158000</td>\n",
              "      <td>140000</td>\n",
              "      <td>15</td>\n",
              "      <td>0</td>\n",
              "      <td>0</td>\n",
              "      <td>1</td>\n",
              "      <td>1</td>\n",
              "      <td>0</td>\n",
              "      <td>1</td>\n",
              "      <td>0</td>\n",
              "      <td>0</td>\n",
              "      <td>0</td>\n",
              "      <td>1</td>\n",
              "    </tr>\n",
              "    <tr>\n",
              "      <th>3</th>\n",
              "      <td>225000</td>\n",
              "      <td>127000</td>\n",
              "      <td>11</td>\n",
              "      <td>1</td>\n",
              "      <td>0</td>\n",
              "      <td>0</td>\n",
              "      <td>1</td>\n",
              "      <td>0</td>\n",
              "      <td>1</td>\n",
              "      <td>0</td>\n",
              "      <td>0</td>\n",
              "      <td>0</td>\n",
              "      <td>0</td>\n",
              "    </tr>\n",
              "    <tr>\n",
              "      <th>4</th>\n",
              "      <td>130000</td>\n",
              "      <td>120000</td>\n",
              "      <td>14</td>\n",
              "      <td>0</td>\n",
              "      <td>0</td>\n",
              "      <td>1</td>\n",
              "      <td>1</td>\n",
              "      <td>0</td>\n",
              "      <td>1</td>\n",
              "      <td>0</td>\n",
              "      <td>0</td>\n",
              "      <td>0</td>\n",
              "      <td>0</td>\n",
              "    </tr>\n",
              "  </tbody>\n",
              "</table>\n",
              "</div>"
            ],
            "text/plain": [
              "   selling_price  km_driven  ...  owner_Test Drive Car  owner_Third Owner\n",
              "0         450000     145500  ...                     0                  0\n",
              "1         370000     120000  ...                     0                  0\n",
              "2         158000     140000  ...                     0                  1\n",
              "3         225000     127000  ...                     0                  0\n",
              "4         130000     120000  ...                     0                  0\n",
              "\n",
              "[5 rows x 13 columns]"
            ]
          },
          "metadata": {},
          "execution_count": 25
        }
      ]
    },
    {
      "cell_type": "markdown",
      "metadata": {
        "id": "ismGT5fVmCyn"
      },
      "source": [
        "**2. Train Test Split**\n",
        "\n",
        "Membagi dataset menjadi data latih (train) dan data uji (test)\n",
        "    - Data Train: Sebagai data yang digunakan model untuk belajar pola yang dimiliki data\n",
        "    - Data Test: Berguna untuk memahami model kita bekerja di kondisi sesungguhnya (real-life situation)\n",
        "    \n",
        "Pentingnya proses ini karena dalam Machine Learning, hal yang kita pedulikan adalah seberapa baik kinerja model ketika dihadapkan pada data yang belum pernah dilihat sebelumnya. Oleh karena itulah, kita selalu melatih dan menguji model menggunakan dua data yang berbeda."
      ]
    },
    {
      "cell_type": "code",
      "metadata": {
        "id": "2w-9jJnSmCXe"
      },
      "source": [
        "from sklearn.model_selection import train_test_split\n",
        "     \n",
        "X = cars.drop([\"selling_price\"],axis =1)\n",
        "y = cars[\"selling_price\"]\n",
        "X_train, X_test, y_train, y_test = train_test_split(X, y, test_size = 0.1, random_state = 123)"
      ],
      "execution_count": null,
      "outputs": []
    },
    {
      "cell_type": "markdown",
      "metadata": {
        "id": "uPey_F1JmiRq"
      },
      "source": [
        "cek jumlah sample"
      ]
    },
    {
      "cell_type": "code",
      "metadata": {
        "colab": {
          "base_uri": "https://localhost:8080/"
        },
        "id": "A8PaY_Tsmkok",
        "outputId": "2280da8b-b6ae-46ec-b749-fbec6f234bed"
      },
      "source": [
        "print(f'Total # of sample in whole dataset: {len(X)}')\n",
        "print(f'Total # of sample in train dataset: {len(X_train)}')\n",
        "print(f'Total # of sample in test dataset: {len(X_test)}')"
      ],
      "execution_count": null,
      "outputs": [
        {
          "output_type": "stream",
          "name": "stdout",
          "text": [
            "Total # of sample in whole dataset: 8128\n",
            "Total # of sample in train dataset: 7315\n",
            "Total # of sample in test dataset: 813\n"
          ]
        }
      ]
    },
    {
      "cell_type": "markdown",
      "metadata": {
        "id": "hzoxdezimr_D"
      },
      "source": [
        "**3. Standarisasi**\n",
        "\n",
        "Standarisasi membantu untuk membuat fitur data menjadi bentuk yang lebih mudah diolah oleh algoritma. Melakukan proses standarisasi setelah proses pembagian data train dan data test berguna untuk menghindari kebocoran informasi pada data uji, dengan menerapkan fitur standarisasi pada data latih.\n",
        "\n",
        "Menggunakan teknik StandarScaler dari library Scikitlearn, StandardScaler melakukan proses standarisasi fitur dengan mengurangkan mean (nilai rata-rata) kemudian membaginya dengan standar deviasi untuk menggeser distribusi."
      ]
    },
    {
      "cell_type": "code",
      "metadata": {
        "colab": {
          "base_uri": "https://localhost:8080/",
          "height": 428
        },
        "id": "S3V8nbwHm0x4",
        "outputId": "9f09c37b-307e-4e77-f774-2b85d80022dc"
      },
      "source": [
        "from sklearn.preprocessing import StandardScaler\n",
        "     \n",
        "numerical_features = ['km_driven', 'age']\n",
        "scaler = StandardScaler()\n",
        "scaler.fit(X_train[numerical_features])\n",
        "X_train[numerical_features] = scaler.transform(X_train.loc[:, numerical_features])\n",
        "X_train[numerical_features].head()"
      ],
      "execution_count": null,
      "outputs": [
        {
          "output_type": "stream",
          "name": "stderr",
          "text": [
            "/usr/local/lib/python3.7/dist-packages/ipykernel_launcher.py:6: SettingWithCopyWarning: \n",
            "A value is trying to be set on a copy of a slice from a DataFrame.\n",
            "Try using .loc[row_indexer,col_indexer] = value instead\n",
            "\n",
            "See the caveats in the documentation: https://pandas.pydata.org/pandas-docs/stable/user_guide/indexing.html#returning-a-view-versus-a-copy\n",
            "  \n",
            "/usr/local/lib/python3.7/dist-packages/pandas/core/indexing.py:1734: SettingWithCopyWarning: \n",
            "A value is trying to be set on a copy of a slice from a DataFrame.\n",
            "Try using .loc[row_indexer,col_indexer] = value instead\n",
            "\n",
            "See the caveats in the documentation: https://pandas.pydata.org/pandas-docs/stable/user_guide/indexing.html#returning-a-view-versus-a-copy\n",
            "  isetter(loc, value[:, i].tolist())\n"
          ]
        },
        {
          "output_type": "execute_result",
          "data": {
            "text/html": [
              "<div>\n",
              "<style scoped>\n",
              "    .dataframe tbody tr th:only-of-type {\n",
              "        vertical-align: middle;\n",
              "    }\n",
              "\n",
              "    .dataframe tbody tr th {\n",
              "        vertical-align: top;\n",
              "    }\n",
              "\n",
              "    .dataframe thead th {\n",
              "        text-align: right;\n",
              "    }\n",
              "</style>\n",
              "<table border=\"1\" class=\"dataframe\">\n",
              "  <thead>\n",
              "    <tr style=\"text-align: right;\">\n",
              "      <th></th>\n",
              "      <th>km_driven</th>\n",
              "      <th>age</th>\n",
              "    </tr>\n",
              "  </thead>\n",
              "  <tbody>\n",
              "    <tr>\n",
              "      <th>5958</th>\n",
              "      <td>-0.537120</td>\n",
              "      <td>-0.542333</td>\n",
              "    </tr>\n",
              "    <tr>\n",
              "      <th>1791</th>\n",
              "      <td>-0.224880</td>\n",
              "      <td>-0.295157</td>\n",
              "    </tr>\n",
              "    <tr>\n",
              "      <th>1321</th>\n",
              "      <td>-0.519774</td>\n",
              "      <td>-0.789508</td>\n",
              "    </tr>\n",
              "    <tr>\n",
              "      <th>4965</th>\n",
              "      <td>0.694496</td>\n",
              "      <td>-0.542333</td>\n",
              "    </tr>\n",
              "    <tr>\n",
              "      <th>1635</th>\n",
              "      <td>0.174095</td>\n",
              "      <td>0.693544</td>\n",
              "    </tr>\n",
              "  </tbody>\n",
              "</table>\n",
              "</div>"
            ],
            "text/plain": [
              "      km_driven       age\n",
              "5958  -0.537120 -0.542333\n",
              "1791  -0.224880 -0.295157\n",
              "1321  -0.519774 -0.789508\n",
              "4965   0.694496 -0.542333\n",
              "1635   0.174095  0.693544"
            ]
          },
          "metadata": {},
          "execution_count": 28
        }
      ]
    },
    {
      "cell_type": "markdown",
      "metadata": {
        "id": "Rg0e2UDKnSOx"
      },
      "source": [
        "cek nilai mean dan standar deviasi"
      ]
    },
    {
      "cell_type": "code",
      "metadata": {
        "colab": {
          "base_uri": "https://localhost:8080/",
          "height": 300
        },
        "id": "lPPEFO7snUCi",
        "outputId": "0575c459-e3ae-456e-e35a-5014dad97424"
      },
      "source": [
        "X_train[numerical_features].describe().round(3)"
      ],
      "execution_count": null,
      "outputs": [
        {
          "output_type": "execute_result",
          "data": {
            "text/html": [
              "<div>\n",
              "<style scoped>\n",
              "    .dataframe tbody tr th:only-of-type {\n",
              "        vertical-align: middle;\n",
              "    }\n",
              "\n",
              "    .dataframe tbody tr th {\n",
              "        vertical-align: top;\n",
              "    }\n",
              "\n",
              "    .dataframe thead th {\n",
              "        text-align: right;\n",
              "    }\n",
              "</style>\n",
              "<table border=\"1\" class=\"dataframe\">\n",
              "  <thead>\n",
              "    <tr style=\"text-align: right;\">\n",
              "      <th></th>\n",
              "      <th>km_driven</th>\n",
              "      <th>age</th>\n",
              "    </tr>\n",
              "  </thead>\n",
              "  <tbody>\n",
              "    <tr>\n",
              "      <th>count</th>\n",
              "      <td>7315.000</td>\n",
              "      <td>7315.000</td>\n",
              "    </tr>\n",
              "    <tr>\n",
              "      <th>mean</th>\n",
              "      <td>-0.000</td>\n",
              "      <td>0.000</td>\n",
              "    </tr>\n",
              "    <tr>\n",
              "      <th>std</th>\n",
              "      <td>1.000</td>\n",
              "      <td>1.000</td>\n",
              "    </tr>\n",
              "    <tr>\n",
              "      <th>min</th>\n",
              "      <td>-1.214</td>\n",
              "      <td>-1.531</td>\n",
              "    </tr>\n",
              "    <tr>\n",
              "      <th>25%</th>\n",
              "      <td>-0.607</td>\n",
              "      <td>-0.790</td>\n",
              "    </tr>\n",
              "    <tr>\n",
              "      <th>50%</th>\n",
              "      <td>-0.173</td>\n",
              "      <td>-0.295</td>\n",
              "    </tr>\n",
              "    <tr>\n",
              "      <th>75%</th>\n",
              "      <td>0.486</td>\n",
              "      <td>0.694</td>\n",
              "    </tr>\n",
              "    <tr>\n",
              "      <th>max</th>\n",
              "      <td>39.733</td>\n",
              "      <td>7.614</td>\n",
              "    </tr>\n",
              "  </tbody>\n",
              "</table>\n",
              "</div>"
            ],
            "text/plain": [
              "       km_driven       age\n",
              "count   7315.000  7315.000\n",
              "mean      -0.000     0.000\n",
              "std        1.000     1.000\n",
              "min       -1.214    -1.531\n",
              "25%       -0.607    -0.790\n",
              "50%       -0.173    -0.295\n",
              "75%        0.486     0.694\n",
              "max       39.733     7.614"
            ]
          },
          "metadata": {},
          "execution_count": 29
        }
      ]
    },
    {
      "cell_type": "markdown",
      "metadata": {
        "id": "i_TvHsimf3bL"
      },
      "source": [
        "# Modeling\n",
        "\n",
        "Menggunakan 3 Algoritma Machine Learning antara lain Random Forest, KNN(K-Nearest Neighhbor), Boosting Algorithm, kemudian membandingkan performanya.\n",
        "\n",
        "\n",
        "---\n",
        "\n",
        "\n",
        "- KNN(K-Nearest Neighhbor)\n",
        "\n",
        "KNN bekerja dengan membandingkan jarak satu sampel ke sampel pelatihan lain dengan memilih sejumlah k-tetangga terdekat\n",
        "- Random Forest\n",
        "\n",
        "Random Forest berawal dari memecah data sampel yang ada kedalam decision tree secara acak. Setelah pohon terbentuk,maka akan dilakukan voting pada setiap kelas dari data sampel. Kemudian, mengkombinasikan vote dari setiap kelas kemudian diambil vote yang paling banyak.\n",
        "- Boostiing Algorithm\n",
        "\n",
        "Boosting Algorithm bekerja dengan membangun model dari data latih. Kemudian ia membuat model kedua yang bertugas memperbaiki kesalahan dari model pertama. Model ditambahkan sampai data latih terprediksi dengan baik atau telah mencapai jumlah maksimum model untuk ditambahkan."
      ]
    },
    {
      "cell_type": "markdown",
      "metadata": {
        "id": "N07xQeIwmOGY"
      },
      "source": [
        "Siapkan dataframe"
      ]
    },
    {
      "cell_type": "code",
      "metadata": {
        "id": "gU14JsGymL8l"
      },
      "source": [
        "models = pd.DataFrame(index=['train_mse', 'test_mse'],\n",
        "                      columns=['KNN', 'RandomForest', 'Boosting'])"
      ],
      "execution_count": null,
      "outputs": []
    },
    {
      "cell_type": "markdown",
      "metadata": {
        "id": "dtauZweBmsoD"
      },
      "source": [
        "Latih dataset dengan algoritma KNN"
      ]
    },
    {
      "cell_type": "code",
      "metadata": {
        "id": "5fmfgziRmo8I"
      },
      "source": [
        "from sklearn.neighbors import KNeighborsRegressor\n",
        "\n",
        "knn = KNeighborsRegressor(n_neighbors=10)\n",
        "knn.fit(X_train, y_train)\n",
        "y_pred_knn = knn.predict(X_train)"
      ],
      "execution_count": null,
      "outputs": []
    },
    {
      "cell_type": "markdown",
      "metadata": {
        "id": "PAwZE1slnX8R"
      },
      "source": [
        "Latih dataset dengan algoritma Random Forest"
      ]
    },
    {
      "cell_type": "code",
      "metadata": {
        "id": "pdT2h0SinhuV"
      },
      "source": [
        "from sklearn.metrics import mean_squared_error\n",
        "from sklearn.ensemble import RandomForestRegressor\n",
        "\n",
        "RF = RandomForestRegressor(n_estimators=50, max_depth=16, random_state=55, n_jobs=-1)\n",
        "RF.fit(X_train, y_train)\n",
        " \n",
        "models.loc['train_mse','RandomForest'] = mean_squared_error(y_pred=RF.predict(X_train), y_true=y_train)          "
      ],
      "execution_count": null,
      "outputs": []
    },
    {
      "cell_type": "markdown",
      "metadata": {
        "id": "QVzaVEp3nu2Q"
      },
      "source": [
        "Latih dataset dengan algoritma Boosting Algorithm"
      ]
    },
    {
      "cell_type": "code",
      "metadata": {
        "id": "aCd-JSBfn1bJ"
      },
      "source": [
        "from sklearn.ensemble import AdaBoostRegressor\n",
        "     \n",
        "boosting = AdaBoostRegressor(n_estimators=50, learning_rate=0.05, random_state=55)                             \n",
        "boosting.fit(X_train, y_train)\n",
        "models.loc['train_mse','Boosting'] = mean_squared_error(y_pred=boosting.predict(X_train), y_true=y_train)"
      ],
      "execution_count": null,
      "outputs": []
    },
    {
      "cell_type": "markdown",
      "metadata": {
        "id": "O5AH6Cgtn98U"
      },
      "source": [
        "# Evaluation\n",
        "\n",
        "\n",
        "---\n",
        "\n",
        "\n",
        "metrik yang akan kita gunakan pada prediksi ini adalah MSE atau Mean Squared Error yang menghitung selisih rata-rata nilai sebenarnya dengan nilai prediksi"
      ]
    },
    {
      "cell_type": "markdown",
      "metadata": {
        "id": "ZX4r_IxNoNOz"
      },
      "source": [
        "Proses scaling terhadap data uji"
      ]
    },
    {
      "cell_type": "code",
      "metadata": {
        "colab": {
          "base_uri": "https://localhost:8080/"
        },
        "id": "5HXMuR6-oCVO",
        "outputId": "d2d1a50b-7f83-4d65-cbc4-a963f2c5430b"
      },
      "source": [
        "X_test.loc[:, numerical_features] = scaler.transform(X_test[numerical_features])"
      ],
      "execution_count": null,
      "outputs": [
        {
          "output_type": "stream",
          "name": "stderr",
          "text": [
            "/usr/local/lib/python3.7/dist-packages/pandas/core/indexing.py:1734: SettingWithCopyWarning: \n",
            "A value is trying to be set on a copy of a slice from a DataFrame.\n",
            "Try using .loc[row_indexer,col_indexer] = value instead\n",
            "\n",
            "See the caveats in the documentation: https://pandas.pydata.org/pandas-docs/stable/user_guide/indexing.html#returning-a-view-versus-a-copy\n",
            "  isetter(loc, value[:, i].tolist())\n"
          ]
        }
      ]
    },
    {
      "cell_type": "markdown",
      "metadata": {
        "id": "w1DX3A6LW7w8"
      },
      "source": [
        "evaluasi model dengan metrix MSE"
      ]
    },
    {
      "cell_type": "code",
      "metadata": {
        "colab": {
          "base_uri": "https://localhost:8080/",
          "height": 144
        },
        "id": "fy-qR2YVoYu2",
        "outputId": "81938edd-fc8c-4961-f0e5-958a329cfe9e"
      },
      "source": [
        "mse = pd.DataFrame(columns=['train', 'test'], index=['KNN','RF','Boosting'])\n",
        "model_dict = {'KNN': knn, 'RF': RF, 'Boosting': boosting}\n",
        "for name, model in model_dict.items():\n",
        "    mse.loc[name, 'train'] = mean_squared_error(y_true=y_train, y_pred=model.predict(X_train))/1e3 \n",
        "    mse.loc[name, 'test'] = mean_squared_error(y_true=y_test, y_pred=model.predict(X_test))/1e3\n",
        " \n",
        "mse"
      ],
      "execution_count": null,
      "outputs": [
        {
          "output_type": "execute_result",
          "data": {
            "text/html": [
              "<div>\n",
              "<style scoped>\n",
              "    .dataframe tbody tr th:only-of-type {\n",
              "        vertical-align: middle;\n",
              "    }\n",
              "\n",
              "    .dataframe tbody tr th {\n",
              "        vertical-align: top;\n",
              "    }\n",
              "\n",
              "    .dataframe thead th {\n",
              "        text-align: right;\n",
              "    }\n",
              "</style>\n",
              "<table border=\"1\" class=\"dataframe\">\n",
              "  <thead>\n",
              "    <tr style=\"text-align: right;\">\n",
              "      <th></th>\n",
              "      <th>train</th>\n",
              "      <th>test</th>\n",
              "    </tr>\n",
              "  </thead>\n",
              "  <tbody>\n",
              "    <tr>\n",
              "      <th>KNN</th>\n",
              "      <td>1.09579e+08</td>\n",
              "      <td>1.39771e+08</td>\n",
              "    </tr>\n",
              "    <tr>\n",
              "      <th>RF</th>\n",
              "      <td>3.75096e+07</td>\n",
              "      <td>2.03903e+08</td>\n",
              "    </tr>\n",
              "    <tr>\n",
              "      <th>Boosting</th>\n",
              "      <td>2.69155e+08</td>\n",
              "      <td>3.52695e+08</td>\n",
              "    </tr>\n",
              "  </tbody>\n",
              "</table>\n",
              "</div>"
            ],
            "text/plain": [
              "                train         test\n",
              "KNN       1.09579e+08  1.39771e+08\n",
              "RF        3.75096e+07  2.03903e+08\n",
              "Boosting  2.69155e+08  3.52695e+08"
            ]
          },
          "metadata": {},
          "execution_count": 35
        }
      ]
    },
    {
      "cell_type": "code",
      "metadata": {
        "colab": {
          "base_uri": "https://localhost:8080/",
          "height": 278
        },
        "id": "EJj4PkB8ohk1",
        "outputId": "61d73c1a-5433-4a8c-c5d3-cfacc5e9fb67"
      },
      "source": [
        "fig, ax = plt.subplots()\n",
        "mse.sort_values(by='test', ascending=False).plot(kind='barh', ax=ax, zorder=3)\n",
        "ax.grid(zorder=0)"
      ],
      "execution_count": null,
      "outputs": [
        {
          "output_type": "display_data",
          "data": {
            "image/png": "[encoded data removed]",
            "text/plain": [
              "<Figure size 432x288 with 1 Axes>"
            ]
          },
          "metadata": {
            "needs_background": "light"
          }
        }
      ]
    },
    {
      "cell_type": "markdown",
      "metadata": {
        "id": "0o_KqtXKq3ug"
      },
      "source": [
        "Dari gambar di atas, terlihat bahwa, model KNN memberikan nilai eror yang paling kecil. Model inilah yang akan kita pilih sebagai model terbaik untuk melakukan prediksi harga mobil"
      ]
    },
    {
      "cell_type": "markdown",
      "metadata": {
        "id": "yfQDBwTPoqIl"
      },
      "source": [
        "# Pengujian\n",
        "\n",
        "---\n",
        "\n"
      ]
    },
    {
      "cell_type": "code",
      "metadata": {
        "colab": {
          "base_uri": "https://localhost:8080/",
          "height": 81
        },
        "id": "l29YQ1Ddo97Z",
        "outputId": "e1f1c828-6892-48ca-87e3-de4be348c6f9"
      },
      "source": [
        "prediksi = X_test.iloc[:1].copy()\n",
        "pred_dict = {'y_true':y_test[:1]}\n",
        "for name, model in model_dict.items():\n",
        "    pred_dict['prediksi_'+name] = model.predict(prediksi).round(1)\n",
        "     \n",
        "pd.DataFrame(pred_dict)"
      ],
      "execution_count": null,
      "outputs": [
        {
          "output_type": "execute_result",
          "data": {
            "text/html": [
              "<div>\n",
              "<style scoped>\n",
              "    .dataframe tbody tr th:only-of-type {\n",
              "        vertical-align: middle;\n",
              "    }\n",
              "\n",
              "    .dataframe tbody tr th {\n",
              "        vertical-align: top;\n",
              "    }\n",
              "\n",
              "    .dataframe thead th {\n",
              "        text-align: right;\n",
              "    }\n",
              "</style>\n",
              "<table border=\"1\" class=\"dataframe\">\n",
              "  <thead>\n",
              "    <tr style=\"text-align: right;\">\n",
              "      <th></th>\n",
              "      <th>y_true</th>\n",
              "      <th>prediksi_KNN</th>\n",
              "      <th>prediksi_RF</th>\n",
              "      <th>prediksi_Boosting</th>\n",
              "    </tr>\n",
              "  </thead>\n",
              "  <tbody>\n",
              "    <tr>\n",
              "      <th>186</th>\n",
              "      <td>100000</td>\n",
              "      <td>87800.0</td>\n",
              "      <td>56693.6</td>\n",
              "      <td>186483.1</td>\n",
              "    </tr>\n",
              "  </tbody>\n",
              "</table>\n",
              "</div>"
            ],
            "text/plain": [
              "     y_true  prediksi_KNN  prediksi_RF  prediksi_Boosting\n",
              "186  100000       87800.0      56693.6           186483.1"
            ]
          },
          "metadata": {},
          "execution_count": 37
        }
      ]
    }
  ]
}